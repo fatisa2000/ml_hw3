{
  "cells": [
    {
      "cell_type": "markdown",
      "metadata": {
        "id": "view-in-github",
        "colab_type": "text"
      },
      "source": [
        "<a href=\"https://colab.research.google.com/github/fatisa2000/ml_hw3/blob/main/HW_NN_Q2.ipynb\" target=\"_parent\"><img src=\"https://colab.research.google.com/assets/colab-badge.svg\" alt=\"Open In Colab\"/></a>"
      ]
    },
    {
      "cell_type": "markdown",
      "id": "9779e5d5",
      "metadata": {
        "id": "9779e5d5"
      },
      "source": [
        "<div align=center>\n",
        "\n",
        "<font size=5>\n",
        "    In the Name of God\n",
        "<font/>\n",
        "<br/>\n",
        "<br/>\n",
        "<font>\n",
        "    Sharif University of Technology - Departmenet of Electrical Engineering\n",
        "</font>\n",
        "<br/>\n",
        "<font>\n",
        "    Introducing with Machine Learing - Dr. S. Amini\n",
        "</font>\n",
        "<br/>\n",
        "<br/>\n",
        "Spring 2023\n",
        "\n",
        "</div>\n",
        "\n",
        "<hr/>\n",
        "<div align=center>\n",
        "<font size=6>\n",
        "    Neural Networks Practical Assignment\n",
        "    \n",
        "    Question 2\n",
        "</font>\n",
        "<br/>\t\t\n",
        "<font size=4>\n",
        "<br/>\n",
        "</div>"
      ]
    },
    {
      "cell_type": "markdown",
      "id": "1d55ee53",
      "metadata": {
        "id": "1d55ee53"
      },
      "source": [
        "# Personal Data"
      ]
    },
    {
      "cell_type": "code",
      "execution_count": null,
      "id": "40e950d8",
      "metadata": {
        "id": "40e950d8"
      },
      "outputs": [],
      "source": [
        "                                  # Set your student number\n",
        "student_number = 97101961\n",
        "Name = 'fateme'\n",
        "Last_Name = 'salehin'"
      ]
    },
    {
      "cell_type": "markdown",
      "id": "2edb1e44",
      "metadata": {
        "id": "2edb1e44"
      },
      "source": [
        "# Rules\n",
        "- You are not allowed to add or remove cells. You **must use the provided space to write your code**. If you don't follow this rule, **your Practical Assignment won't be graded**.  \n",
        "\n",
        "- Collaboration and using the internet is allowed, but your code **must be written by yourself**. **Copying code** from each other or from available resources will result in a **zero score for the assignment**.\n",
        "\n",
        "- In this question, you are allowed to use `torch.optim`, `torch.nn` or any other submodule you need.\n",
        "- You **are not allowed** to use the models already implemented or the pretrained models in torch. "
      ]
    },
    {
      "cell_type": "code",
      "execution_count": 1,
      "id": "7a15a195",
      "metadata": {
        "id": "7a15a195",
        "colab": {
          "base_uri": "https://localhost:8080/"
        },
        "outputId": "903cb0d8-4140-49bb-b842-f72081909603"
      },
      "outputs": [
        {
          "output_type": "stream",
          "name": "stdout",
          "text": [
            "Looking in indexes: https://pypi.org/simple, https://us-python.pkg.dev/colab-wheels/public/simple/\n",
            "Requirement already satisfied: numpy in /usr/local/lib/python3.10/dist-packages (1.22.4)\n",
            "Looking in indexes: https://pypi.org/simple, https://us-python.pkg.dev/colab-wheels/public/simple/\n",
            "Requirement already satisfied: matplotlib in /usr/local/lib/python3.10/dist-packages (3.7.1)\n",
            "Requirement already satisfied: contourpy>=1.0.1 in /usr/local/lib/python3.10/dist-packages (from matplotlib) (1.0.7)\n",
            "Requirement already satisfied: cycler>=0.10 in /usr/local/lib/python3.10/dist-packages (from matplotlib) (0.11.0)\n",
            "Requirement already satisfied: fonttools>=4.22.0 in /usr/local/lib/python3.10/dist-packages (from matplotlib) (4.39.3)\n",
            "Requirement already satisfied: kiwisolver>=1.0.1 in /usr/local/lib/python3.10/dist-packages (from matplotlib) (1.4.4)\n",
            "Requirement already satisfied: numpy>=1.20 in /usr/local/lib/python3.10/dist-packages (from matplotlib) (1.22.4)\n",
            "Requirement already satisfied: packaging>=20.0 in /usr/local/lib/python3.10/dist-packages (from matplotlib) (23.1)\n",
            "Requirement already satisfied: pillow>=6.2.0 in /usr/local/lib/python3.10/dist-packages (from matplotlib) (8.4.0)\n",
            "Requirement already satisfied: pyparsing>=2.3.1 in /usr/local/lib/python3.10/dist-packages (from matplotlib) (3.0.9)\n",
            "Requirement already satisfied: python-dateutil>=2.7 in /usr/local/lib/python3.10/dist-packages (from matplotlib) (2.8.2)\n",
            "Requirement already satisfied: six>=1.5 in /usr/local/lib/python3.10/dist-packages (from python-dateutil>=2.7->matplotlib) (1.16.0)\n",
            "Looking in indexes: https://pypi.org/simple, https://us-python.pkg.dev/colab-wheels/public/simple/\n",
            "Requirement already satisfied: torchvision in /usr/local/lib/python3.10/dist-packages (0.15.2+cu118)\n",
            "Requirement already satisfied: numpy in /usr/local/lib/python3.10/dist-packages (from torchvision) (1.22.4)\n",
            "Requirement already satisfied: requests in /usr/local/lib/python3.10/dist-packages (from torchvision) (2.27.1)\n",
            "Requirement already satisfied: torch==2.0.1 in /usr/local/lib/python3.10/dist-packages (from torchvision) (2.0.1+cu118)\n",
            "Requirement already satisfied: pillow!=8.3.*,>=5.3.0 in /usr/local/lib/python3.10/dist-packages (from torchvision) (8.4.0)\n",
            "Requirement already satisfied: filelock in /usr/local/lib/python3.10/dist-packages (from torch==2.0.1->torchvision) (3.12.0)\n",
            "Requirement already satisfied: typing-extensions in /usr/local/lib/python3.10/dist-packages (from torch==2.0.1->torchvision) (4.5.0)\n",
            "Requirement already satisfied: sympy in /usr/local/lib/python3.10/dist-packages (from torch==2.0.1->torchvision) (1.11.1)\n",
            "Requirement already satisfied: networkx in /usr/local/lib/python3.10/dist-packages (from torch==2.0.1->torchvision) (3.1)\n",
            "Requirement already satisfied: jinja2 in /usr/local/lib/python3.10/dist-packages (from torch==2.0.1->torchvision) (3.1.2)\n",
            "Requirement already satisfied: triton==2.0.0 in /usr/local/lib/python3.10/dist-packages (from torch==2.0.1->torchvision) (2.0.0)\n",
            "Requirement already satisfied: cmake in /usr/local/lib/python3.10/dist-packages (from triton==2.0.0->torch==2.0.1->torchvision) (3.25.2)\n",
            "Requirement already satisfied: lit in /usr/local/lib/python3.10/dist-packages (from triton==2.0.0->torch==2.0.1->torchvision) (16.0.5)\n",
            "Requirement already satisfied: urllib3<1.27,>=1.21.1 in /usr/local/lib/python3.10/dist-packages (from requests->torchvision) (1.26.15)\n",
            "Requirement already satisfied: certifi>=2017.4.17 in /usr/local/lib/python3.10/dist-packages (from requests->torchvision) (2022.12.7)\n",
            "Requirement already satisfied: charset-normalizer~=2.0.0 in /usr/local/lib/python3.10/dist-packages (from requests->torchvision) (2.0.12)\n",
            "Requirement already satisfied: idna<4,>=2.5 in /usr/local/lib/python3.10/dist-packages (from requests->torchvision) (3.4)\n",
            "Requirement already satisfied: MarkupSafe>=2.0 in /usr/local/lib/python3.10/dist-packages (from jinja2->torch==2.0.1->torchvision) (2.1.2)\n",
            "Requirement already satisfied: mpmath>=0.19 in /usr/local/lib/python3.10/dist-packages (from sympy->torch==2.0.1->torchvision) (1.3.0)\n",
            "Looking in indexes: https://pypi.org/simple, https://us-python.pkg.dev/colab-wheels/public/simple/\n",
            "Requirement already satisfied: torch in /usr/local/lib/python3.10/dist-packages (2.0.1+cu118)\n",
            "Requirement already satisfied: filelock in /usr/local/lib/python3.10/dist-packages (from torch) (3.12.0)\n",
            "Requirement already satisfied: typing-extensions in /usr/local/lib/python3.10/dist-packages (from torch) (4.5.0)\n",
            "Requirement already satisfied: sympy in /usr/local/lib/python3.10/dist-packages (from torch) (1.11.1)\n",
            "Requirement already satisfied: networkx in /usr/local/lib/python3.10/dist-packages (from torch) (3.1)\n",
            "Requirement already satisfied: jinja2 in /usr/local/lib/python3.10/dist-packages (from torch) (3.1.2)\n",
            "Requirement already satisfied: triton==2.0.0 in /usr/local/lib/python3.10/dist-packages (from torch) (2.0.0)\n",
            "Requirement already satisfied: cmake in /usr/local/lib/python3.10/dist-packages (from triton==2.0.0->torch) (3.25.2)\n",
            "Requirement already satisfied: lit in /usr/local/lib/python3.10/dist-packages (from triton==2.0.0->torch) (16.0.5)\n",
            "Requirement already satisfied: MarkupSafe>=2.0 in /usr/local/lib/python3.10/dist-packages (from jinja2->torch) (2.1.2)\n",
            "Requirement already satisfied: mpmath>=0.19 in /usr/local/lib/python3.10/dist-packages (from sympy->torch) (1.3.0)\n"
          ]
        }
      ],
      "source": [
        "!pip install numpy\n",
        "!pip install matplotlib\n",
        "!pip install torchvision\n",
        "!pip install torch"
      ]
    },
    {
      "cell_type": "markdown",
      "id": "85c3b02e",
      "metadata": {
        "id": "85c3b02e"
      },
      "source": [
        "## Importing Libraries"
      ]
    },
    {
      "cell_type": "code",
      "execution_count": 6,
      "id": "b6246005",
      "metadata": {
        "id": "b6246005"
      },
      "outputs": [],
      "source": [
        "import torch\n",
        "from torchvision.datasets import FashionMNIST\n",
        "from torchvision import transforms\n",
        "import torchvision\n",
        "from torch.utils.data import DataLoader\n",
        "import torchvision.transforms as transforms\n",
        "import numpy as np\n",
        "from matplotlib import pyplot as plt\n",
        "from typing import Dict"
      ]
    },
    {
      "cell_type": "markdown",
      "id": "2c89754b",
      "metadata": {
        "id": "2c89754b"
      },
      "source": [
        "## Datasets and Dataloaders\n",
        "\n",
        "You should load the train and test set of the `CIFAR10` dataset and apply the desired transforms on it. Then, you should create the loaders for these `test` and `train` sets.\n",
        "- **Hint:** You can use `torchvision.datasets` to easily load the CIFAR10 dataset."
      ]
    },
    {
      "cell_type": "code",
      "execution_count": 23,
      "id": "40e10458",
      "metadata": {
        "colab": {
          "base_uri": "https://localhost:8080/"
        },
        "id": "40e10458",
        "outputId": "df13979c-0faf-49c2-d808-6b40c5634677"
      },
      "outputs": [
        {
          "output_type": "stream",
          "name": "stdout",
          "text": [
            "Files already downloaded and verified\n",
            "Files already downloaded and verified\n"
          ]
        }
      ],
      "source": [
        "## FILL HERE\n",
        "# Define transforms for data augmentation\n",
        "transform_train = transforms.Compose([\n",
        "    transforms.RandomCrop(32, padding=4),\n",
        "    transforms.RandomHorizontalFlip(),\n",
        "    transforms.ToTensor(),\n",
        "    transforms.Normalize(mean=[0.5, 0.5, 0.5], std=[0.5, 0.5, 0.5])\n",
        "])\n",
        "\n",
        "transform_test = transforms.Compose([\n",
        "    transforms.ToTensor(),\n",
        "    transforms.Normalize(mean=[0.5, 0.5, 0.5], std=[0.5, 0.5, 0.5])\n",
        "])\n",
        "\n",
        "# Load CIFAR10 dataset\n",
        "trainset = torchvision.datasets.CIFAR10(root='./data', train=True,\n",
        "                                        download=True, transform=transform_train)\n",
        "testset = torchvision.datasets.CIFAR10(root='./data', train=False,\n",
        "                                       download=True, transform=transform_test)\n",
        "\n",
        "# Create data loaders for train and test sets\n",
        "trainloader = torch.utils.data.DataLoader(trainset, batch_size=64,\n",
        "                                          shuffle=True, num_workers=2)\n",
        "testloader = torch.utils.data.DataLoader(testset, batch_size=64,\n",
        "                                         shuffle=False, num_workers=2)"
      ]
    },
    {
      "cell_type": "markdown",
      "id": "ee9a3be8",
      "metadata": {
        "id": "ee9a3be8"
      },
      "source": [
        "## Visualization\n",
        "\n",
        "Visualize 1 random image from each class\n"
      ]
    },
    {
      "cell_type": "code",
      "execution_count": 24,
      "id": "a1b039d1",
      "metadata": {
        "colab": {
          "base_uri": "https://localhost:8080/",
          "height": 653
        },
        "id": "a1b039d1",
        "outputId": "25be6673-a083-47ee-e03e-08e82cf21415"
      },
      "outputs": [
        {
          "output_type": "display_data",
          "data": {
            "text/plain": [
              "<Figure size 800x800 with 20 Axes>"
            ],
            "image/png": "[encoded data removed]"
          },
          "metadata": {}
        }
      ],
      "source": [
        "## FILL HERE\n",
        "fig = plt.figure(figsize=(8,8));\n",
        "c = 4;\n",
        "r = 5;\n",
        "for i in range(1, c*r +1):\n",
        "    im = np.random.randint(len(trainset));\n",
        "    img = trainset[im][0][0,:,:]\n",
        "    fig.add_subplot(r, c, i)\n",
        "    plt.axis('off')\n",
        "    plt.imshow(img,cmap='gray')\n",
        "plt.show()\n"
      ]
    },
    {
      "cell_type": "markdown",
      "id": "1221642e",
      "metadata": {
        "id": "1221642e"
      },
      "source": [
        "## Defining a Convolutional Neural Network\n",
        "\n",
        "In this section, you should define a class called `Net` which represents the model for your convolutional neural network.\n",
        "- **Hint:** You can use `torch.nn` to add the required layers to your model."
      ]
    },
    {
      "cell_type": "code",
      "execution_count": 25,
      "id": "0ba6a266",
      "metadata": {
        "id": "0ba6a266"
      },
      "outputs": [],
      "source": [
        "import torch.nn as nn\n",
        "import torch.nn.functional as F\n",
        "\n",
        "\n",
        "class Net(nn.Module):\n",
        "    def __init__(self):\n",
        "        super().__init__()\n",
        "        ## FILL HERE\n",
        "        # Define the layers \n",
        "        self.conv1 = nn.Conv2d(in_channels=3, out_channels=16, kernel_size=3)\n",
        "        self.pool = nn.MaxPool2d(kernel_size=2, stride=2)\n",
        "        self.conv2 = nn.Conv2d(in_channels=16, out_channels=32, kernel_size=3)\n",
        "        self.fc1 = nn.Linear(in_features=32*6*6, out_features=120)\n",
        "        self.fc2 = nn.Linear(in_features=120, out_features=84)\n",
        "        self.fc3 = nn.Linear(in_features=84, out_features=10)\n",
        "\n",
        "\n",
        "    def forward(self, x):\n",
        "        ## FILL HERE\n",
        "        x = self.pool(F.relu(self.conv1(x)))\n",
        "        x = self.pool(F.relu(self.conv2(x)))\n",
        "        x = x.view(-1, 32*6*6)\n",
        "        x = F.relu(self.fc1(x))\n",
        "        x = F.relu(self.fc2(x))\n",
        "        x = self.fc3(x)\n",
        "        \n",
        "        return x\n",
        "\n",
        "net = Net()"
      ]
    },
    {
      "cell_type": "markdown",
      "id": "e3c27c9f",
      "metadata": {
        "id": "e3c27c9f"
      },
      "source": [
        "## Define a Loss function and optimizer"
      ]
    },
    {
      "cell_type": "markdown",
      "id": "a8f1eadd",
      "metadata": {
        "id": "a8f1eadd"
      },
      "source": [
        "In this section, you simply define your loss function and optimizer.\n",
        "- **Hint:** You can use `torch.optim` and implemented loss functions in torch."
      ]
    },
    {
      "cell_type": "code",
      "execution_count": 38,
      "id": "79068600",
      "metadata": {
        "id": "79068600"
      },
      "outputs": [],
      "source": [
        "## FILL HERE\n",
        "train_accuracy, test_accuracy = [], []\n",
        "epochs = 150\n",
        "loss_function = nn.CrossEntropyLoss()\n",
        "optimizer = torch.optim.Adam(params=net.parameters(), lr=0.01)"
      ]
    },
    {
      "cell_type": "markdown",
      "id": "b526ee28",
      "metadata": {
        "id": "b526ee28"
      },
      "source": [
        "## Training the model\n",
        "\n",
        "You should train your model for multiple epochs. You are free to choose the number of epochs. However, you should reach an acceptable accuracy at the end."
      ]
    },
    {
      "cell_type": "code",
      "execution_count": 40,
      "id": "fbf5c8d2",
      "metadata": {
        "colab": {
          "base_uri": "https://localhost:8080/"
        },
        "id": "fbf5c8d2",
        "outputId": "aa74e35f-81f0-4701-b4fe-0fa10e3ed1b8"
      },
      "outputs": [
        {
          "output_type": "stream",
          "name": "stdout",
          "text": [
            "Finished Training\n"
          ]
        }
      ],
      "source": [
        "epoch_nums =10  ## Number of epochs\n",
        "for epoch in range(epoch_nums):  # loop over the dataset multiple times\n",
        "\n",
        "    running_loss = 0.0\n",
        "    running_corrects=0\n",
        "    train_accuracy=[]\n",
        "    for i, data in enumerate(trainloader, 0):\n",
        "        ## FILL HERE\n",
        "        i,l=data\n",
        "        preds = net(i)\n",
        "        pred_labels = torch.argmax(preds, axis=1)\n",
        "        loss = loss_function(preds,l)\n",
        "        optimizer.zero_grad()\n",
        "        loss.backward()\n",
        "        optimizer.step()\n",
        "        running_loss += loss.item() * i.size(0)\n",
        "        \n",
        "        # Calculate average training loss and accuracy for epoch\n",
        "        epoch_train_loss = running_loss / len(trainloader.dataset)\n",
        "        \n",
        "        \n",
        "    train_accuracy.append(100 * torch.mean((pred_labels == l).float()).item())\n",
        "\n",
        "print('Finished Training')"
      ]
    },
    {
      "cell_type": "markdown",
      "id": "14558277",
      "metadata": {
        "id": "14558277"
      },
      "source": [
        "## Test the network on the test data\n",
        "\n",
        "In the following section, you should test your network and calculate the accuracy of your model on the test dataset."
      ]
    },
    {
      "cell_type": "code",
      "execution_count": 51,
      "id": "fb0f4803",
      "metadata": {
        "colab": {
          "base_uri": "https://localhost:8080/"
        },
        "id": "fb0f4803",
        "outputId": "ae0c4356-5569-47bd-d3f5-ea97285e5017"
      },
      "outputs": [
        {
          "output_type": "stream",
          "name": "stdout",
          "text": [
            "Accuracy of the network on the 10000 test images: 0 %\n"
          ]
        }
      ],
      "source": [
        "correct = 0\n",
        "total = 0\n",
        "# since we're not training, we don't need to calculate the gradients for our outputs\n",
        "with torch.no_grad():\n",
        "    for data in testloader:\n",
        "        ## FILL HERE\n",
        "        i,l=data\n",
        "        preds=net(i)\n",
        "        _,pred_labels=torch.max(preds.data,1)\n",
        "\n",
        "        pred_labels = torch.max(preds.data, 1)\n",
        "        correct += (pred_labels == l)\n",
        "        total+=l.size(0)\n",
        "    \n",
        "\n",
        "print(f'Accuracy of the network on the 10000 test images: {100 * correct // total} %')"
      ]
    },
    {
      "cell_type": "markdown",
      "id": "9a90c190",
      "metadata": {
        "id": "9a90c190"
      },
      "source": [
        "Here, we also calculate the model performance for each class as well."
      ]
    },
    {
      "cell_type": "code",
      "execution_count": 50,
      "id": "8afd6a24",
      "metadata": {
        "colab": {
          "base_uri": "https://localhost:8080/"
        },
        "id": "8afd6a24",
        "outputId": "ce960c4b-6b54-4abc-cfc4-eba5d3a4df37"
      },
      "outputs": [
        {
          "output_type": "stream",
          "name": "stdout",
          "text": [
            "Accuracy for class: plane is 56.6 %\n",
            "Accuracy for class: car   is 77.1 %\n",
            "Accuracy for class: bird  is 47.7 %\n",
            "Accuracy for class: cat   is 36.6 %\n",
            "Accuracy for class: deer  is 57.1 %\n",
            "Accuracy for class: dog   is 51.6 %\n",
            "Accuracy for class: frog  is 74.5 %\n",
            "Accuracy for class: horse is 68.7 %\n",
            "Accuracy for class: ship  is 87.7 %\n",
            "Accuracy for class: truck is 75.0 %\n"
          ]
        }
      ],
      "source": [
        "# prepare to count predictions for each class\n",
        "correct_pred = {classname: 0 for classname in classes}\n",
        "total_pred = {classname: 0 for classname in classes}\n",
        "\n",
        "# again no gradients needed\n",
        "with torch.no_grad():\n",
        "    for data in testloader:\n",
        "        ## FILL HERE\n",
        "        i, l = data\n",
        "        preds = net(i)\n",
        "        _, pred_labels = torch.max(preds, 1)\n",
        "        # collect the correct predictions for each class\n",
        "        for l, pred_labels in zip(l,pred_labels):\n",
        "            if l ==pred_labels:\n",
        "                correct_pred[classes[l]] += 1\n",
        "            total_pred[classes[l]] += 1\n",
        "\n",
        "\n",
        "# print accuracy for each class\n",
        "for classname, correct_count in correct_pred.items():\n",
        "    accuracy = 100 * float(correct_count) / total_pred[classname]\n",
        "    print(f'Accuracy for class: {classname:5s} is {accuracy:.1f} %')"
      ]
    }
  ],
  "metadata": {
    "kernelspec": {
      "display_name": "Python 3",
      "language": "python",
      "name": "python3"
    },
    "language_info": {
      "codemirror_mode": {
        "name": "ipython",
        "version": 3
      },
      "file_extension": ".py",
      "mimetype": "text/x-python",
      "name": "python",
      "nbconvert_exporter": "python",
      "pygments_lexer": "ipython3",
      "version": "3.8.3"
    },
    "colab": {
      "provenance": [],
      "include_colab_link": true
    }
  },
  "nbformat": 4,
  "nbformat_minor": 5
}